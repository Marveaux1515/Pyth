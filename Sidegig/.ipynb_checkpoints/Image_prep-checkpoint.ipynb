{
 "cells": [
  {
   "cell_type": "code",
   "execution_count": 2,
   "metadata": {},
   "outputs": [],
   "source": [
    "import os,numpy as np,re\n",
    "import matplotlib.pyplot as plt\n",
    "%matplotlib inline"
   ]
  },
  {
   "cell_type": "code",
   "execution_count": null,
   "metadata": {},
   "outputs": [],
   "source": [
    "CAPTCHA_PATH=r\"C:\\Users\\DELL\\Pictures\\Sidegig _test\"\n",
    "images_folders=os.listdir(CAPTCHA_PATH)\n",
    "#rename images in each image directory to include the directory name\n",
    "for dir in images_folders:\n",
    "    images=f\"{CAPTCHA_PATH}\\\\{dir}\"\n",
    "    for image in os.listdir(images):\n",
    "        os.rename(f\"{images}\\\\{image}\",f\"{images}\\\\{image[:-4]} {dir}.png\")\n",
    "    print(os.listdir(images))"
   ]
  },
  {
   "cell_type": "code",
   "execution_count": 5,
   "metadata": {},
   "outputs": [],
   "source": [
    "#creating train and test directories\n",
    "try:\n",
    "    os.mkdir(\"Image_data\")\n",
    "except:\n",
    "    os.mkdir(\"Image_data\\\\Train\")\n",
    "    os.mkdir(\"Image_data\\\\Test\")"
   ]
  },
  {
   "cell_type": "code",
   "execution_count": 8,
   "metadata": {},
   "outputs": [],
   "source": [
    "\n",
    "try:\n",
    "    os.mkdir(\"Image_data\\\\Complete_images\")\n",
    "except:\n",
    "    pass\n",
    "#move all scraped/downloaded images to working directory\n",
    "\"\"\"for dir in images_folders:\n",
    "    images=f\"{CAPTCHA_PATH}\\\\{dir}\"\n",
    "    for image in os.listdir(images):\n",
    "        os.rename(f\"{images}\\\\{image}\",f\"Image_data\\\\Complete_images\\\\{image}\")\"\"\"\n",
    "    "
   ]
  },
  {
   "cell_type": "code",
   "execution_count": null,
   "metadata": {},
   "outputs": [],
   "source": [
    "Image_folder=\"Image_data\\\\Complete_images\"\n",
    "Images=os.listdir(Image_folder)\n",
    "#removing redundant information(folder name) and leaving only the image labels\n",
    "#Note: images have been labelled manually to include their labels in the file name\n",
    "labels=[re.sub(\"[A-Za-z\\(].+\",\"\",image_name).strip() for image_name in Images]\n",
    "labels=[re.search(\"(\\d+)_(\\d)\",label) for label in labels]\n",
    "labels=[label.groups() for label in labels]\n",
    "try:\n",
    "    os.mkdir(\"Image_data\\\\Label_1\")\n",
    "    os.mkdir(\"Image_data\\\\Label_2\")\n",
    "except:\n",
    "    pass\n",
    "labels"
   ]
  },
  {
   "cell_type": "code",
   "execution_count": 89,
   "metadata": {},
   "outputs": [],
   "source": [
    "#split and separate the two-digit images into separate folders containing single digits\n",
    "\"\"\"for i in range(len(Images)):\n",
    "    img=plt.imread(Image_folder+\"\\\\\"+Images[i])\n",
    "    img_2=img[:,img.shape[1]//2:,:]\n",
    "    img_1=img[:,:img.shape[1]//2,:]\n",
    "    #plt.imshow(img)\n",
    "    plt.imsave(f\"Image_data\\\\Label_1\\\\{labels[i][0]} ({i}).png\",img_1)\n",
    "    plt.imsave(f\"Image_data\\\\Label_2\\\\{labels[i][1]} ({i}).png\",img_2)\"\"\"\n"
   ]
  },
  {
   "cell_type": "code",
   "execution_count": 105,
   "metadata": {},
   "outputs": [],
   "source": [
    "\n",
    "\n",
    "\"\"\"labe_=os.listdir(\"Image_data\\\\Label_1\")\n",
    "labe_2=os.listdir(\"Image_data\\\\Label_2\")\n",
    "for i in range(len(labe_)):\n",
    "    label=re.search(\"^\\d+\",labe_[i]).group()\n",
    "    #create sub folders for each unique label \n",
    "    if os.path.exists(f\"Image_data\\\\Label_1\\\\{label}\")==False:\n",
    "        os.mkdir(f\"Image_data\\\\Label_1\\\\{label}\")\n",
    "    #move images into their corresponding label subfolder\n",
    "    os.rename(f\"Image_data\\\\Label_1\\\\{labe_[i]}\",f\"Image_data\\\\Label_1\\\\{label}\\\\{labe_[i]}\")\n",
    "    label_2=re.search(\"^\\d\",labe_2[i]).group()\n",
    "    if os.path.exists(f\"Image_data\\\\Label_2\\\\{label_2}\")==False:\n",
    "        os.mkdir(f\"Image_data\\\\Label_2\\\\{label_2}\")\n",
    "    os.rename(f\"Image_data\\\\Label_2\\\\{labe_2[i]}\",f\"Image_data\\\\Label_2\\\\{label_2}\\\\{labe_2[i]}\")\"\"\""
   ]
  },
  {
   "cell_type": "code",
   "execution_count": 22,
   "metadata": {},
   "outputs": [
    {
     "name": "stdout",
     "output_type": "stream",
     "text": [
      "[210, 524]\n"
     ]
    }
   ],
   "source": [
    "label_1=\"Image_data\\\\Label_1\"\n",
    "label_2=\"Image_data\\\\Label_2\"\n",
    "min_num_images=[]\n",
    "for label in (label_1,label_2):\n",
    "    labels_=os.listdir(label)\n",
    "    for i,dir in enumerate(labels_):\n",
    "        dir_images=os.listdir(label+\"\\\\\"+dir)\n",
    "        image_length=len(dir_images)\n",
    "        if i==0:\n",
    "            min_length=image_length\n",
    "        if image_length< min_length:\n",
    "            min_length=image_length\n",
    "\n",
    "    min_num_images.append(min_length)\n",
    "print(min_num_images)"
   ]
  },
  {
   "cell_type": "code",
   "execution_count": 27,
   "metadata": {},
   "outputs": [],
   "source": [
    "Train_1=\"Image_data\\\\Train\\\\Label_1\"\n",
    "Train_2=\"Image_data\\\\Train\\\\Label_2\"\n",
    "Test_1=\"Image_data\\\\Test\\\\Label_1\"\n",
    "Test_2=\"Image_data\\\\Test\\\\Label_2\"\n",
    "Train=[Train_1,Train_2]\n",
    "Test=[Test_1,Test_2]\n",
    "try:\n",
    "    os.mkdir(Train_1)\n",
    "    os.mkdir(Train_2)\n",
    "    os.mkdir(Test_1)\n",
    "    os.mkdir(Test_2)\n",
    "except FileExistsError:\n",
    "    pass"
   ]
  },
  {
   "cell_type": "code",
   "execution_count": 28,
   "metadata": {},
   "outputs": [],
   "source": [
    "valid=0.1\n",
    "for i,label in enumerate((label_1,label_2)):\n",
    "    for folder in os.listdir(label):\n",
    "        if os.path.exists(f\"{Train[i]}\\\\{folder}\")==False:\n",
    "            os.mkdir(f\"{Train[i]}\\\\{folder}\")\n",
    "        if os.path.exists(f\"{Test[i]}\\\\{folder}\")==False:\n",
    "            os.mkdir(f\"{Test[i]}\\\\{folder}\")\n",
    "        for num_image,image in enumerate(os.listdir(label+\"\\\\\"+folder)):\n",
    "            if num_image<= min_num_images[i]*(1-valid):\n",
    "                os.rename(f\"{label}\\\\{folder}\\\\{image}\",f\"{Train[i]}\\\\{folder}\\\\{image}\")\n",
    "            elif num_images<min_num_images[i]:\n",
    "                os.rename(f\"{label}\\\\{folder}\\\\{image}\",f\"{Test[i]}\\\\{folder}\\\\{image}\")"
   ]
  },
  {
   "cell_type": "code",
   "execution_count": 37,
   "metadata": {},
   "outputs": [
    {
     "name": "stdout",
     "output_type": "stream",
     "text": [
      "[[19, 19, 19, 19, 19, 19, 19, 19, 19, 19, 19, 19, 19, 19, 19, 19, 19, 19, 19, 19, 19], [51, 51, 51, 51, 51, 51, 51, 51, 51]]\n"
     ]
    }
   ],
   "source": [
    "len_test_images=[[],[]]\n",
    "for j,label in enumerate(Test):\n",
    "    labels_=os.listdir(label)\n",
    "    for i,dir in enumerate(labels_):\n",
    "        dir_images=os.listdir(label+\"\\\\\"+dir)\n",
    "        image_length=len(dir_images)\n",
    "\n",
    "        len_test_images[j].append(image_length)\n",
    "print(len_test_images)"
   ]
  },
  {
   "cell_type": "code",
   "execution_count": 35,
   "metadata": {},
   "outputs": [
    {
     "data": {
      "text/plain": [
       "(20, 52)"
      ]
     },
     "execution_count": 35,
     "metadata": {},
     "output_type": "execute_result"
    }
   ],
   "source": [
    "min_test_1,min_test_2=min(len_test_images[0]),min(len_test_images[1])\n",
    "min_test_1,min_test_2"
   ]
  },
  {
   "cell_type": "code",
   "execution_count": 36,
   "metadata": {},
   "outputs": [],
   "source": [
    "new_labels=[\"Image_data\\\\Label_1\",\"Image_data\\\\Label_2\"]\n",
    "for j,label in enumerate(Test):\n",
    "    labels_=os.listdir(label)\n",
    "    for dir in (labels_):\n",
    "        dir_images=os.listdir(label+\"\\\\\"+dir)\n",
    "        cut_off=min(len_test_images[j])\n",
    "        for img in dir_images[cut_off-1:]:\n",
    "            os.rename(f\"{label}\\\\{dir}\\\\{img}\",f\"{new_labels[j]}\\\\{dir}\\\\{img}\")\n",
    "        "
   ]
  },
  {
   "cell_type": "code",
   "execution_count": null,
   "metadata": {},
   "outputs": [],
   "source": []
  }
 ],
 "metadata": {
  "interpreter": {
   "hash": "cd8ac7ed5329ff1f59a8356dfddf06d159cf18414acbfd7b13d1d5cd1cbb5d7d"
  },
  "kernelspec": {
   "display_name": "Python 3",
   "language": "python",
   "name": "python3"
  },
  "language_info": {
   "codemirror_mode": {
    "name": "ipython",
    "version": 3
   },
   "file_extension": ".py",
   "mimetype": "text/x-python",
   "name": "python",
   "nbconvert_exporter": "python",
   "pygments_lexer": "ipython3",
   "version": "3.8.8"
  }
 },
 "nbformat": 4,
 "nbformat_minor": 2
}
